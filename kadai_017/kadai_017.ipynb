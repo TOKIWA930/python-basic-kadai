{
  "nbformat": 4,
  "nbformat_minor": 0,
  "metadata": {
    "colab": {
      "provenance": []
    },
    "kernelspec": {
      "name": "python3",
      "display_name": "Python 3"
    },
    "language_info": {
      "name": "python"
    }
  },
  "cells": [
    {
      "cell_type": "code",
      "execution_count": 17,
      "metadata": {
        "id": "lx6wAJ0na-S8"
      },
      "outputs": [],
      "source": [
        "class Human:\n",
        "    def __init__(self, name, age):\n",
        "        self.name = name\n",
        "        self.age = age\n",
        "\n",
        "    def check_adult(self):\n",
        "        if self.age < 20:\n",
        "            print(f\"{self.name} は大人ではありません。\")\n",
        "        else:\n",
        "           print(f\"{self.name} は大人です。\")"
      ]
    },
    {
      "cell_type": "code",
      "source": [
        "User1 = Human(\"太郎\", 18)\n",
        "User2 = Human(\"二郎\", 28)\n",
        "User3 = Human(\"三郎\", 10)\n",
        "User4 = Human(\"四郎\", 20)"
      ],
      "metadata": {
        "id": "G4ZJD8VlivfE"
      },
      "execution_count": 20,
      "outputs": []
    },
    {
      "cell_type": "code",
      "source": [
        "for user in [User1, User2, User3, User4]:\n",
        "    user.check_adult()"
      ],
      "metadata": {
        "colab": {
          "base_uri": "https://localhost:8080/"
        },
        "id": "X1oVt4gVjySO",
        "outputId": "a6fec776-fe43-441c-b919-2f27ff660494"
      },
      "execution_count": 21,
      "outputs": [
        {
          "output_type": "stream",
          "name": "stdout",
          "text": [
            "太郎 は大人ではありません。\n",
            "二郎 は大人です。\n",
            "三郎 は大人ではありません。\n",
            "四郎 は大人です。\n"
          ]
        }
      ]
    }
  ]
}